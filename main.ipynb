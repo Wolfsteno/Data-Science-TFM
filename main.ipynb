{
 "cells": [
  {
   "cell_type": "markdown",
   "metadata": {},
   "source": [
    "#### SERIE DE COMANDOS PARA INSTALLAR DEPENDENCIAS Y LIBRERIAS\n",
    "DESCOMENTA EL CODIGO DEL SIGUIENTE BLOQUE PARA INSTALLAR PAQUETES LA PRIMERA VEZ DE EJECUCION\n"
   ]
  },
  {
   "cell_type": "code",
   "execution_count": null,
   "metadata": {},
   "outputs": [],
   "source": [
    "%pip install pandas\n",
    "%pip install numpy\n",
    "%pip install matplotlib\n",
    "%pip install seaborn\n",
    "%pip install scikit-learn\n",
    "%pip install missingno\n",
    "%pip install termcolor"
   ]
  },
  {
   "cell_type": "markdown",
   "metadata": {},
   "source": [
    "___Recomiendo tambien instalar la extensions \"Data Wrangler\" de visual studio.___"
   ]
  },
  {
   "cell_type": "markdown",
   "metadata": {},
   "source": [
    "# IMPORTE DE LIBRERIAS"
   ]
  },
  {
   "cell_type": "code",
   "execution_count": 2,
   "metadata": {},
   "outputs": [],
   "source": [
    "# En Jupyter Notebook\n",
    "from IPython.core.interactiveshell import InteractiveShell\n",
    "InteractiveShell.ast_node_interactivity = \"all\"\n",
    "\n",
    "# sys: Manejo del entorno de ejecución del sistema.\n",
    "import sys\n",
    "\n",
    "# termcolor: Texto coloreado en la terminal.\n",
    "from termcolor import colored\n",
    "\n",
    "# sklearn.preprocessing: Transformación y escalado de datos.\n",
    "from sklearn.preprocessing import LabelEncoder, OrdinalEncoder, MinMaxScaler\n",
    "\n",
    "# numpy: Cálculos numéricos y manejo de matrices.\n",
    "import numpy as np\n",
    "\n",
    "# pandas: Análisis y manipulación de datos.\n",
    "import pandas as pd\n",
    "\n",
    "# Configuraciones para pandas\n",
    "pd.set_option('display.max_columns', None)  # Mostrar todas las columnas\n",
    "pd.set_option('display.max_rows', None)     # Mostrar todas las filas\n",
    "pd.set_option('display.expand_frame_repr', False)  # No ajustar automáticamente el contenido de los DataFrames\n",
    "pd.set_option('display.max_colwidth', None)  # Mostrar el contenido completo de cada columna\n",
    "\n",
    "# matplotlib.pyplot: Gráficos y visualización de datos.\n",
    "import matplotlib.pyplot as plt\n",
    "\n",
    "# seaborn: Gráficos estadísticos estilizados.\n",
    "import seaborn as sns\n",
    "\n",
    "# missingno: Visualización de datos faltantes.\n",
    "import missingno as msno\n"
   ]
  },
  {
   "cell_type": "markdown",
   "metadata": {},
   "source": [
    "# COMPROBACIONES BASICAS"
   ]
  },
  {
   "cell_type": "markdown",
   "metadata": {},
   "source": [
    "#### Carga del dataset"
   ]
  },
  {
   "cell_type": "code",
   "execution_count": 3,
   "metadata": {},
   "outputs": [],
   "source": [
    "df = pd.read_csv('./data-sets/WIN/daily_calendar_with_events.csv')"
   ]
  },
  {
   "cell_type": "markdown",
   "metadata": {},
   "source": [
    "#### Información general del DataFrame\n",
    "Esto muestra el número de entradas, las columnas y el tipo de datos."
   ]
  },
  {
   "cell_type": "code",
   "execution_count": 4,
   "metadata": {},
   "outputs": [
    {
     "name": "stdout",
     "output_type": "stream",
     "text": [
      "\u001b[5m\u001b[7m\u001b[32m\n",
      "Información general del DataFrame:\u001b[0m\n",
      "<class 'pandas.core.frame.DataFrame'>\n",
      "RangeIndex: 1913 entries, 0 to 1912\n",
      "Data columns (total 5 columns):\n",
      " #   Column       Non-Null Count  Dtype \n",
      "---  ------       --------------  ----- \n",
      " 0   date         1913 non-null   object\n",
      " 1   weekday      1913 non-null   object\n",
      " 2   weekday_int  1913 non-null   int64 \n",
      " 3   d            1913 non-null   object\n",
      " 4   event        26 non-null     object\n",
      "dtypes: int64(1), object(4)\n",
      "memory usage: 74.9+ KB\n"
     ]
    }
   ],
   "source": [
    "print(colored(\"\\nInformación general del DataFrame:\", 'green', attrs=['reverse', 'blink']))\n",
    "df.info()"
   ]
  },
  {
   "cell_type": "markdown",
   "metadata": {},
   "source": [
    "#### Revisión de columnas\n",
    "Aquí mostramos los nombres de todas las columnas disponibles."
   ]
  },
  {
   "cell_type": "code",
   "execution_count": 8,
   "metadata": {},
   "outputs": [
    {
     "name": "stdout",
     "output_type": "stream",
     "text": [
      "\u001b[5m\u001b[7m\u001b[32m\n",
      "Columnas del DataFrame:\u001b[0m\n"
     ]
    },
    {
     "data": {
      "text/plain": [
       "Index(['date', 'weekday', 'weekday_int', 'd', 'event'], dtype='object')"
      ]
     },
     "execution_count": 8,
     "metadata": {},
     "output_type": "execute_result"
    }
   ],
   "source": [
    "print(colored(\"\\nColumnas del DataFrame:\", 'green', attrs=['reverse', 'blink']))\n",
    "df.columns"
   ]
  },
  {
   "cell_type": "markdown",
   "metadata": {},
   "source": [
    "#### Primeras filas del DataFrame\n",
    "Visualizamos las primeras filas para hacernos una idea de los datos.\n"
   ]
  },
  {
   "cell_type": "code",
   "execution_count": 9,
   "metadata": {},
   "outputs": [
    {
     "name": "stdout",
     "output_type": "stream",
     "text": [
      "\u001b[5m\u001b[7m\u001b[32m\n",
      "Primeras filas del DataFrame:\u001b[0m\n"
     ]
    },
    {
     "data": {
      "text/html": [
       "<div>\n",
       "<style scoped>\n",
       "    .dataframe tbody tr th:only-of-type {\n",
       "        vertical-align: middle;\n",
       "    }\n",
       "\n",
       "    .dataframe tbody tr th {\n",
       "        vertical-align: top;\n",
       "    }\n",
       "\n",
       "    .dataframe thead th {\n",
       "        text-align: right;\n",
       "    }\n",
       "</style>\n",
       "<table border=\"1\" class=\"dataframe\">\n",
       "  <thead>\n",
       "    <tr style=\"text-align: right;\">\n",
       "      <th></th>\n",
       "      <th>date</th>\n",
       "      <th>weekday</th>\n",
       "      <th>weekday_int</th>\n",
       "      <th>d</th>\n",
       "      <th>event</th>\n",
       "    </tr>\n",
       "  </thead>\n",
       "  <tbody>\n",
       "    <tr>\n",
       "      <th>0</th>\n",
       "      <td>2011-01-29</td>\n",
       "      <td>Saturday</td>\n",
       "      <td>1</td>\n",
       "      <td>d_1</td>\n",
       "      <td>NaN</td>\n",
       "    </tr>\n",
       "    <tr>\n",
       "      <th>1</th>\n",
       "      <td>2011-01-30</td>\n",
       "      <td>Sunday</td>\n",
       "      <td>2</td>\n",
       "      <td>d_2</td>\n",
       "      <td>NaN</td>\n",
       "    </tr>\n",
       "    <tr>\n",
       "      <th>2</th>\n",
       "      <td>2011-01-31</td>\n",
       "      <td>Monday</td>\n",
       "      <td>3</td>\n",
       "      <td>d_3</td>\n",
       "      <td>NaN</td>\n",
       "    </tr>\n",
       "    <tr>\n",
       "      <th>3</th>\n",
       "      <td>2011-02-01</td>\n",
       "      <td>Tuesday</td>\n",
       "      <td>4</td>\n",
       "      <td>d_4</td>\n",
       "      <td>NaN</td>\n",
       "    </tr>\n",
       "    <tr>\n",
       "      <th>4</th>\n",
       "      <td>2011-02-02</td>\n",
       "      <td>Wednesday</td>\n",
       "      <td>5</td>\n",
       "      <td>d_5</td>\n",
       "      <td>NaN</td>\n",
       "    </tr>\n",
       "  </tbody>\n",
       "</table>\n",
       "</div>"
      ],
      "text/plain": [
       "         date    weekday  weekday_int    d event\n",
       "0  2011-01-29   Saturday            1  d_1   NaN\n",
       "1  2011-01-30     Sunday            2  d_2   NaN\n",
       "2  2011-01-31     Monday            3  d_3   NaN\n",
       "3  2011-02-01    Tuesday            4  d_4   NaN\n",
       "4  2011-02-02  Wednesday            5  d_5   NaN"
      ]
     },
     "execution_count": 9,
     "metadata": {},
     "output_type": "execute_result"
    }
   ],
   "source": [
    "print(colored(\"\\nPrimeras filas del DataFrame:\", 'green', attrs=['reverse', 'blink']))\n",
    "df.head()"
   ]
  },
  {
   "cell_type": "markdown",
   "metadata": {},
   "source": [
    "#### Revisión de valores nulos\n",
    "Verificamos cuántos valores faltan por columna para determinar si se requiere limpieza de datos."
   ]
  },
  {
   "cell_type": "code",
   "execution_count": 10,
   "metadata": {},
   "outputs": [
    {
     "name": "stdout",
     "output_type": "stream",
     "text": [
      "\u001b[5m\u001b[7m\u001b[32m\n",
      "Valores nulos por columna:\u001b[0m\n"
     ]
    },
    {
     "data": {
      "text/plain": [
       "date              0\n",
       "weekday           0\n",
       "weekday_int       0\n",
       "d                 0\n",
       "event          1887\n",
       "dtype: int64"
      ]
     },
     "execution_count": 10,
     "metadata": {},
     "output_type": "execute_result"
    }
   ],
   "source": [
    "print(colored(\"\\nValores nulos por columna:\", 'green', attrs=['reverse', 'blink']))\n",
    "df.isnull().sum()"
   ]
  },
  {
   "cell_type": "markdown",
   "metadata": {},
   "source": [
    "#### Descripción estadística\n",
    "Obtenemos un resumen estadístico de las columnas numéricas, como 'km' y 'potencia'."
   ]
  },
  {
   "cell_type": "code",
   "execution_count": 11,
   "metadata": {},
   "outputs": [
    {
     "name": "stdout",
     "output_type": "stream",
     "text": [
      "\u001b[5m\u001b[7m\u001b[32m\n",
      "Resumen estadístico de las columnas numéricas:\u001b[0m\n"
     ]
    },
    {
     "data": {
      "text/html": [
       "<div>\n",
       "<style scoped>\n",
       "    .dataframe tbody tr th:only-of-type {\n",
       "        vertical-align: middle;\n",
       "    }\n",
       "\n",
       "    .dataframe tbody tr th {\n",
       "        vertical-align: top;\n",
       "    }\n",
       "\n",
       "    .dataframe thead th {\n",
       "        text-align: right;\n",
       "    }\n",
       "</style>\n",
       "<table border=\"1\" class=\"dataframe\">\n",
       "  <thead>\n",
       "    <tr style=\"text-align: right;\">\n",
       "      <th></th>\n",
       "      <th>weekday_int</th>\n",
       "    </tr>\n",
       "  </thead>\n",
       "  <tbody>\n",
       "    <tr>\n",
       "      <th>count</th>\n",
       "      <td>1913.000000</td>\n",
       "    </tr>\n",
       "    <tr>\n",
       "      <th>mean</th>\n",
       "      <td>3.997386</td>\n",
       "    </tr>\n",
       "    <tr>\n",
       "      <th>std</th>\n",
       "      <td>2.001175</td>\n",
       "    </tr>\n",
       "    <tr>\n",
       "      <th>min</th>\n",
       "      <td>1.000000</td>\n",
       "    </tr>\n",
       "    <tr>\n",
       "      <th>25%</th>\n",
       "      <td>2.000000</td>\n",
       "    </tr>\n",
       "    <tr>\n",
       "      <th>50%</th>\n",
       "      <td>4.000000</td>\n",
       "    </tr>\n",
       "    <tr>\n",
       "      <th>75%</th>\n",
       "      <td>6.000000</td>\n",
       "    </tr>\n",
       "    <tr>\n",
       "      <th>max</th>\n",
       "      <td>7.000000</td>\n",
       "    </tr>\n",
       "  </tbody>\n",
       "</table>\n",
       "</div>"
      ],
      "text/plain": [
       "       weekday_int\n",
       "count  1913.000000\n",
       "mean      3.997386\n",
       "std       2.001175\n",
       "min       1.000000\n",
       "25%       2.000000\n",
       "50%       4.000000\n",
       "75%       6.000000\n",
       "max       7.000000"
      ]
     },
     "execution_count": 11,
     "metadata": {},
     "output_type": "execute_result"
    }
   ],
   "source": [
    "print(colored(\"\\nResumen estadístico de las columnas numéricas:\", 'green', attrs=['reverse', 'blink']))\n",
    "df.describe()"
   ]
  },
  {
   "cell_type": "markdown",
   "metadata": {},
   "source": [
    "#### Comprobación de valores únicos en las columnas categóricas\n",
    "Esto nos ayuda a entender la diversidad de valores en cada columna categórica y a mostrar ejemplos ordenados."
   ]
  },
  {
   "cell_type": "code",
   "execution_count": 13,
   "metadata": {},
   "outputs": [
    {
     "name": "stdout",
     "output_type": "stream",
     "text": [
      "\u001b[33m\n",
      "event:\u001b[0m\n",
      "\u001b[1m5 valores únicos\u001b[0m\n",
      "\u001b[33m\n",
      "weekday:\u001b[0m\n",
      "\u001b[1m7 valores únicos\u001b[0m\n",
      "\u001b[33m\n",
      "weekday_int:\u001b[0m\n",
      "\u001b[1m7 valores únicos\u001b[0m\n",
      "\u001b[33m\n",
      "date:\u001b[0m\n",
      "\u001b[1m1913 valores únicos\u001b[0m\n",
      "\u001b[31m Demasiados valores únicos para mostrar (más de 100): 1913\u001b[0m\n",
      "\u001b[33m\n",
      "d:\u001b[0m\n",
      "\u001b[1m1913 valores únicos\u001b[0m\n",
      "\u001b[31m Demasiados valores únicos para mostrar (más de 100): 1913\u001b[0m\n"
     ]
    }
   ],
   "source": [
    "# Lista de columnas categóricas\n",
    "categorical_columns = ['date', 'weekday', 'weekday_int', 'd', 'event']\n",
    "\n",
    "# Ordenar las columnas por la cantidad de valores únicos en orden ascendente\n",
    "sorted_columns = sorted(categorical_columns, key=lambda col: df[col].nunique())\n",
    "\n",
    "# Crear un diccionario para almacenar los valores únicos\n",
    "unique_values_dict = {}\n",
    "\n",
    "# Iterar sobre las columnas ordenadas\n",
    "for col in sorted_columns:\n",
    "    unique_values_count = df[col].nunique()  # Número de valores únicos\n",
    "    print(colored(f\"\\n{col}:\", 'yellow'))\n",
    "    print(f\"\\033[1m{unique_values_count} valores únicos\\033[0m\")\n",
    "\n",
    "    # Si la columna tiene 100 o menos valores únicos, almacenamos los valores\n",
    "    if unique_values_count <= 1000:\n",
    "        unique_values = df[col].dropna().unique()[:1000]  # Obtén hasta 100 valores únicos\n",
    "        unique_values_dict[col] = unique_values\n",
    "    else:\n",
    "        # Si hay más de 100 valores únicos, solo mostramos la cantidad\n",
    "        print(colored(f\" Demasiados valores únicos para mostrar (más de 100): {unique_values_count}\", 'red'))\n",
    "\n",
    "# Crear un DataFrame de los valores únicos con columnas alineadas horizontalmente\n",
    "unique_values_df = pd.DataFrame(dict([(k, pd.Series(v)) for k, v in unique_values_dict.items()]))\n",
    "\n",
    "# Reemplazar NaN con cadenas vacías\n",
    "unique_values_df = unique_values_df.fillna('')"
   ]
  }
 ],
 "metadata": {
  "kernelspec": {
   "display_name": "Python 3",
   "language": "python",
   "name": "python3"
  },
  "language_info": {
   "codemirror_mode": {
    "name": "ipython",
    "version": 3
   },
   "file_extension": ".py",
   "mimetype": "text/x-python",
   "name": "python",
   "nbconvert_exporter": "python",
   "pygments_lexer": "ipython3",
   "version": "3.11.9"
  }
 },
 "nbformat": 4,
 "nbformat_minor": 2
}
